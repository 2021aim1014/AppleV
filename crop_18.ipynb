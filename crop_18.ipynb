{
 "cells": [
  {
   "cell_type": "code",
   "execution_count": null,
   "id": "721a58bd",
   "metadata": {},
   "outputs": [
    {
     "name": "stderr",
     "output_type": "stream",
     "text": [
      "1971it [01:54, 17.24it/s]\n"
     ]
    }
   ],
   "source": [
    "import cv2\n",
    "import os\n",
    "from tqdm import tqdm\n",
    "\n",
    "src_images_path = \"../../dataset/original/\"\n",
    "destination_images_path = \"../../dataset/crop_18/\"\n",
    "\n",
    "# if destination path does not exist, create it\n",
    "if not os.path.exists(destination_images_path):\n",
    "    os.makedirs(destination_images_path)\n",
    "\n",
    "files = os.listdir(src_images_path)\n",
    "for i, filename in tqdm(enumerate(files)):\n",
    "    # Load the image\n",
    "    image = cv2.imread(f'{src_images_path}{filename}')\n",
    "\n",
    "    # Get the dimensions of the image\n",
    "    height, width = image.shape[:2]\n",
    "\n",
    "    # Calculate the pixels to crop (18% of the width and height)\n",
    "    crop_pixels_h = int(0.18 * height)\n",
    "    crop_pixels_w = int(0.18 * width)\n",
    "\n",
    "    # Crop the image: remove 18% from each side\n",
    "    cropped_image = image[crop_pixels_h:height - crop_pixels_h, crop_pixels_w:width - crop_pixels_w]\n",
    "\n",
    "    # Save or display the cropped image\n",
    "    cv2.imwrite(f'{destination_images_path}{filename}', cropped_image)\n"
   ]
  },
  {
   "cell_type": "code",
   "execution_count": null,
   "id": "9568c55a",
   "metadata": {},
   "outputs": [],
   "source": []
  }
 ],
 "metadata": {
  "kernelspec": {
   "display_name": "pytoch_venv",
   "language": "python",
   "name": "pytoch_venv"
  },
  "language_info": {
   "codemirror_mode": {
    "name": "ipython",
    "version": 3
   },
   "file_extension": ".py",
   "mimetype": "text/x-python",
   "name": "python",
   "nbconvert_exporter": "python",
   "pygments_lexer": "ipython3",
   "version": "3.9.6"
  }
 },
 "nbformat": 4,
 "nbformat_minor": 5
}
