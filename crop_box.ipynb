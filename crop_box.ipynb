{
 "cells": [
  {
   "cell_type": "code",
   "execution_count": 2,
   "id": "5e21d3d9",
   "metadata": {},
   "outputs": [],
   "source": [
    "# pip install ultralytics\n",
    "from ultralytics import YOLO\n",
    "import cv2\n",
    "import os\n",
    "from tqdm import tqdm"
   ]
  },
  {
   "cell_type": "code",
   "execution_count": 3,
   "id": "9586a4aa",
   "metadata": {},
   "outputs": [
    {
     "name": "stdout",
     "output_type": "stream",
     "text": [
      "\u001b[KDownloading https://github.com/ultralytics/assets/releases/download/v8.3.0/yolov8n.pt to 'yolov8n.pt': 100% ━━━━━━━━━━━━ 6.2MB 2.9MB/s 2.1s.1s<0.0s8s5ss\n"
     ]
    }
   ],
   "source": [
    "model = YOLO('yolov8n.pt')  # yolov8n.pt, yolov8s.pt, yolov8m.pt, yolov8l.pt, yolov8x.pt"
   ]
  },
  {
   "cell_type": "code",
   "execution_count": null,
   "id": "c705065e",
   "metadata": {},
   "outputs": [],
   "source": [
    "src_images_path = \"../../dataset/crop_18/\"\n",
    "destination_images_path = \"../../dataset/crop_box/\"\n",
    "\n",
    "# if destination path does not exist, create it\n",
    "if not os.path.exists(destination_images_path):\n",
    "    os.makedirs(destination_images_path)\n",
    "\n",
    "files = os.listdir(src_images_path)\n",
    "for i, filename in tqdm(enumerate(files)):\n",
    "    # Load the image\n",
    "    image = cv2.imread(f'{src_images_path}{filename}')\n",
    "    # pass the image to the model\n",
    "    results = model(image)\n",
    "    for result in results:\n",
    "        boxes = result.boxes\n",
    "        for box in boxes:\n",
    "            # Get the bounding box coordinates\n",
    "            x1, y1, x2, y2 = map(int, box.xyxy[0])\n",
    "            # Crop the image using the bounding box coordinates\n",
    "            cropped_image = image[y1:y2, x1:x2]\n",
    "            # Save the cropped image\n",
    "            cv2.imwrite(f'{destination_images_path}{filename}', cropped_image)\n",
    "            break"
   ]
  },
  {
   "cell_type": "code",
   "execution_count": 18,
   "id": "94482ac0",
   "metadata": {},
   "outputs": [
    {
     "name": "stdout",
     "output_type": "stream",
     "text": [
      "\n",
      "0: 640x480 1 person, 1 apple, 1 orange, 33.4ms\n",
      "Speed: 2.6ms preprocess, 33.4ms inference, 0.4ms postprocess per image at shape (1, 3, 640, 480)\n"
     ]
    }
   ],
   "source": [
    "src_images = \"../../dataset/crop_18/107g.jpg\"\n",
    "destination_images = \"../../dataset/crop_box/107g.jpg\"\n",
    "\n",
    "image = cv2.imread(src_images)\n",
    "# pass the image to the model\n",
    "results = model(image)\n",
    "for result in results:\n",
    "    boxes = result.boxes\n",
    "    for j, box in enumerate(boxes):\n",
    "        # Get the bounding box coordinates\n",
    "        x1, y1, x2, y2 = map(int, box.xyxy[0])\n",
    "        # Crop the image using the bounding box coordinates\n",
    "        cropped_image = image[y1:y2, x1:x2]\n",
    "        # Save the cropped image\n",
    "        cv2.imwrite(destination_images, cropped_image)\n",
    "    "
   ]
  },
  {
   "cell_type": "code",
   "execution_count": 21,
   "id": "92de63ce",
   "metadata": {},
   "outputs": [
    {
     "name": "stdout",
     "output_type": "stream",
     "text": [
      "\n",
      "0: 640x480 1 person, 1 apple, 40.3ms\n",
      "Speed: 5.9ms preprocess, 40.3ms inference, 0.4ms postprocess per image at shape (1, 3, 640, 480)\n",
      "553 767 1959 2612\n",
      "581 889 1390 1782\n"
     ]
    }
   ],
   "source": [
    "src_images = \"../../dataset/crop_18/21l.jpg\"\n",
    "destination_images = \"../../dataset/crop_box/21l.jpg\"\n",
    "\n",
    "image = cv2.imread(src_images)\n",
    "# pass the image to the model\n",
    "results = model(image)\n",
    "for result in results:\n",
    "    boxes = result.boxes\n",
    "    for j, box in enumerate(boxes):\n",
    "        # Get the bounding box coordinates\n",
    "        x1, y1, x2, y2 = map(int, box.xyxy[0])\n",
    "        print(x1, y1, x2, y2)\n",
    "        # Crop the image using the bounding box coordinates\n",
    "        cropped_image = image[y1:y2, x1:x2]\n",
    "        # Save the cropped image\n",
    "        cv2.imwrite(destination_images, cropped_image)\n",
    "    "
   ]
  },
  {
   "cell_type": "code",
   "execution_count": null,
   "id": "69506885",
   "metadata": {},
   "outputs": [],
   "source": []
  }
 ],
 "metadata": {
  "kernelspec": {
   "display_name": "pytoch_venv",
   "language": "python",
   "name": "pytoch_venv"
  },
  "language_info": {
   "codemirror_mode": {
    "name": "ipython",
    "version": 3
   },
   "file_extension": ".py",
   "mimetype": "text/x-python",
   "name": "python",
   "nbconvert_exporter": "python",
   "pygments_lexer": "ipython3",
   "version": "3.9.6"
  }
 },
 "nbformat": 4,
 "nbformat_minor": 5
}
