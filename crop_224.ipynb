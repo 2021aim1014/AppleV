{
 "cells": [
  {
   "cell_type": "code",
   "execution_count": 6,
   "id": "7740a487",
   "metadata": {},
   "outputs": [
    {
     "name": "stderr",
     "output_type": "stream",
     "text": [
      "1969it [00:10, 179.96it/s]\n"
     ]
    }
   ],
   "source": [
    "import cv2\n",
    "import os\n",
    "from tqdm import tqdm\n",
    "\n",
    "src_images_path = \"../../dataset/crop_box/\"\n",
    "destination_images_path = \"../../dataset/crop_224/\"\n",
    "\n",
    "# if destination path does not exist, create it\n",
    "if not os.path.exists(destination_images_path):\n",
    "    os.makedirs(destination_images_path)\n",
    "\n",
    "files = os.listdir(src_images_path)\n",
    "for i, filename in tqdm(enumerate(files)):\n",
    "    # Load the image\n",
    "    image = cv2.imread(f'{src_images_path}{filename}')\n",
    "\n",
    "    # Get the dimensions of the image\n",
    "    height, width = image.shape[:2]\n",
    "    filename = filename.split('.')[0]\n",
    "\n",
    "    H = 224\n",
    "    W = 224\n",
    "    stride = 224\n",
    "    count = 0\n",
    "\n",
    "    for y in range(0, height - H + 1, stride):\n",
    "        for x in range(0, width - W + 1, stride):\n",
    "            cropped_image = image[y:y + H, x:x + W]\n",
    "            cv2.imwrite(f'{destination_images_path}{filename}_{count}.jpg', cropped_image)\n",
    "            count += 1\n"
   ]
  },
  {
   "cell_type": "code",
   "execution_count": null,
   "id": "138aabc7",
   "metadata": {},
   "outputs": [],
   "source": []
  }
 ],
 "metadata": {
  "kernelspec": {
   "display_name": "pytoch_venv",
   "language": "python",
   "name": "pytoch_venv"
  },
  "language_info": {
   "codemirror_mode": {
    "name": "ipython",
    "version": 3
   },
   "file_extension": ".py",
   "mimetype": "text/x-python",
   "name": "python",
   "nbconvert_exporter": "python",
   "pygments_lexer": "ipython3",
   "version": "3.9.6"
  }
 },
 "nbformat": 4,
 "nbformat_minor": 5
}
